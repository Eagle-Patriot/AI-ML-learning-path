{
 "cells": [
  {
   "cell_type": "markdown",
   "id": "e725d96b",
   "metadata": {},
   "source": [
    "# Drug Performance Data Visualization\n",
    "This data was obtained from a Kaggle dataset that comprises performance metrics of drugs for 37 commonly occurring medical conditions.\n",
    "\n",
    "link to dataset:https://www.kaggle.com/datasets/thedevastator/drug-performance-evaluation\n",
    "\n",
    "## objectives\n",
    "- Use necessary packages to perform data visualization"
   ]
  },
  {
   "cell_type": "markdown",
   "id": "0d75a493",
   "metadata": {},
   "source": [
    "### Import the needed packages"
   ]
  },
  {
   "cell_type": "code",
   "execution_count": 139,
   "id": "fdc2e156",
   "metadata": {},
   "outputs": [],
   "source": [
    "import pandas as pd\n",
    "import numpy as np\n",
    "import seaborn as sns\n",
    "import matplotlib.pyplot as plt\n",
    "%matplotlib inline\n",
    "import warnings\n",
    "warnings.filterwarnings(\"ignore\", message=\"Glyph 13 missing from current font.\")"
   ]
  },
  {
   "cell_type": "markdown",
   "id": "29553d7f",
   "metadata": {},
   "source": [
    "## Understanding the data\n",
    "### Drug_clean.csv:\n",
    "\n",
    "*   **Condition** -- The medical condition associated with the drug.\n",
    "*   **Drug** -- The name of the drug.\n",
    "*   **EaseOfUse** -- The ease of use of the drug based on customer reviews.\n",
    "*   **Effective** -- The effectiveness of the drug based on customer reviews.\n",
    "*   **Indication** -- The purpose of the drug.\n",
    "*   **Reviews** -- The number of reviews associated with the drug.\n",
    "*   **Satisfaction** -- The satisfaction level of the drug based on customer reviews..\n",
    "*   **Type** -- The type of drug (generic or brand).\n",
    "*   **Form** -- The form of the drug (e.g. tablet, capsule, etc.). \n",
    "*   **Price** -- The average price of the drug. "
   ]
  },
  {
   "cell_type": "markdown",
   "id": "4b4272a1",
   "metadata": {},
   "source": [
    "### reading the data in"
   ]
  },
  {
   "cell_type": "code",
   "execution_count": 140,
   "id": "2b6f1959",
   "metadata": {},
   "outputs": [
    {
     "data": {
      "text/html": [
       "<div>\n",
       "<style scoped>\n",
       "    .dataframe tbody tr th:only-of-type {\n",
       "        vertical-align: middle;\n",
       "    }\n",
       "\n",
       "    .dataframe tbody tr th {\n",
       "        vertical-align: top;\n",
       "    }\n",
       "\n",
       "    .dataframe thead th {\n",
       "        text-align: right;\n",
       "    }\n",
       "</style>\n",
       "<table border=\"1\" class=\"dataframe\">\n",
       "  <thead>\n",
       "    <tr style=\"text-align: right;\">\n",
       "      <th></th>\n",
       "      <th>Condition</th>\n",
       "      <th>Drug</th>\n",
       "      <th>EaseOfUse</th>\n",
       "      <th>Effective</th>\n",
       "      <th>Form</th>\n",
       "      <th>Indication</th>\n",
       "      <th>Price</th>\n",
       "      <th>Reviews</th>\n",
       "      <th>Satisfaction</th>\n",
       "      <th>Type</th>\n",
       "    </tr>\n",
       "  </thead>\n",
       "  <tbody>\n",
       "    <tr>\n",
       "      <th>0</th>\n",
       "      <td>Acute Bacterial Sinusitis</td>\n",
       "      <td>Amoxicillin</td>\n",
       "      <td>3.852353</td>\n",
       "      <td>3.655882</td>\n",
       "      <td>Capsule</td>\n",
       "      <td>On Label</td>\n",
       "      <td>12.590000</td>\n",
       "      <td>86.294118</td>\n",
       "      <td>3.197647</td>\n",
       "      <td>RX</td>\n",
       "    </tr>\n",
       "    <tr>\n",
       "      <th>1</th>\n",
       "      <td>Acute Bacterial Sinusitis</td>\n",
       "      <td>Amoxicillin-Pot Clavulanate</td>\n",
       "      <td>3.470000</td>\n",
       "      <td>3.290000</td>\n",
       "      <td>Liquid (Drink)</td>\n",
       "      <td>Off Label</td>\n",
       "      <td>287.370000</td>\n",
       "      <td>43.000000</td>\n",
       "      <td>2.590000</td>\n",
       "      <td>RX</td>\n",
       "    </tr>\n",
       "    <tr>\n",
       "      <th>2</th>\n",
       "      <td>Acute Bacterial Sinusitis</td>\n",
       "      <td>Amoxicillin-Pot Clavulanate</td>\n",
       "      <td>3.121429</td>\n",
       "      <td>2.962857</td>\n",
       "      <td>Tablet</td>\n",
       "      <td>On Label</td>\n",
       "      <td>70.608571</td>\n",
       "      <td>267.285714</td>\n",
       "      <td>2.248571</td>\n",
       "      <td>RX</td>\n",
       "    </tr>\n",
       "    <tr>\n",
       "      <th>3</th>\n",
       "      <td>Acute Bacterial Sinusitis</td>\n",
       "      <td>Ampicillin</td>\n",
       "      <td>2.000000</td>\n",
       "      <td>3.000000</td>\n",
       "      <td>Capsule</td>\n",
       "      <td>On Label</td>\n",
       "      <td>12.590000</td>\n",
       "      <td>1.000000</td>\n",
       "      <td>1.000000</td>\n",
       "      <td>RX</td>\n",
       "    </tr>\n",
       "    <tr>\n",
       "      <th>4</th>\n",
       "      <td>Acute Bacterial Sinusitis</td>\n",
       "      <td>Ampicillin</td>\n",
       "      <td>3.250000</td>\n",
       "      <td>3.000000</td>\n",
       "      <td>Tablet</td>\n",
       "      <td>On Label</td>\n",
       "      <td>125.240000</td>\n",
       "      <td>15.000000</td>\n",
       "      <td>3.000000</td>\n",
       "      <td>RX</td>\n",
       "    </tr>\n",
       "  </tbody>\n",
       "</table>\n",
       "</div>"
      ],
      "text/plain": [
       "                   Condition                         Drug  EaseOfUse  \\\n",
       "0  Acute Bacterial Sinusitis                  Amoxicillin   3.852353   \n",
       "1  Acute Bacterial Sinusitis  Amoxicillin-Pot Clavulanate   3.470000   \n",
       "2  Acute Bacterial Sinusitis  Amoxicillin-Pot Clavulanate   3.121429   \n",
       "3  Acute Bacterial Sinusitis                   Ampicillin   2.000000   \n",
       "4  Acute Bacterial Sinusitis                   Ampicillin   3.250000   \n",
       "\n",
       "   Effective            Form Indication       Price     Reviews  Satisfaction  \\\n",
       "0   3.655882         Capsule   On Label   12.590000   86.294118      3.197647   \n",
       "1   3.290000  Liquid (Drink)  Off Label  287.370000   43.000000      2.590000   \n",
       "2   2.962857          Tablet   On Label   70.608571  267.285714      2.248571   \n",
       "3   3.000000         Capsule   On Label   12.590000    1.000000      1.000000   \n",
       "4   3.000000          Tablet   On Label  125.240000   15.000000      3.000000   \n",
       "\n",
       "  Type  \n",
       "0   RX  \n",
       "1   RX  \n",
       "2   RX  \n",
       "3   RX  \n",
       "4   RX  "
      ]
     },
     "execution_count": 140,
     "metadata": {},
     "output_type": "execute_result"
    }
   ],
   "source": [
    "df = pd.read_csv(\"Drug_clean.csv\")\n",
    "#take a look at the dataset\n",
    "df.head()"
   ]
  },
  {
   "cell_type": "code",
   "execution_count": 141,
   "id": "6b278732",
   "metadata": {},
   "outputs": [
    {
     "data": {
      "text/html": [
       "<div>\n",
       "<style scoped>\n",
       "    .dataframe tbody tr th:only-of-type {\n",
       "        vertical-align: middle;\n",
       "    }\n",
       "\n",
       "    .dataframe tbody tr th {\n",
       "        vertical-align: top;\n",
       "    }\n",
       "\n",
       "    .dataframe thead th {\n",
       "        text-align: right;\n",
       "    }\n",
       "</style>\n",
       "<table border=\"1\" class=\"dataframe\">\n",
       "  <thead>\n",
       "    <tr style=\"text-align: right;\">\n",
       "      <th></th>\n",
       "      <th>EaseOfUse</th>\n",
       "      <th>Effective</th>\n",
       "      <th>Price</th>\n",
       "      <th>Reviews</th>\n",
       "      <th>Satisfaction</th>\n",
       "    </tr>\n",
       "  </thead>\n",
       "  <tbody>\n",
       "    <tr>\n",
       "      <th>count</th>\n",
       "      <td>685.000000</td>\n",
       "      <td>685.000000</td>\n",
       "      <td>685.000000</td>\n",
       "      <td>685.000000</td>\n",
       "      <td>685.000000</td>\n",
       "    </tr>\n",
       "    <tr>\n",
       "      <th>mean</th>\n",
       "      <td>3.920038</td>\n",
       "      <td>3.523530</td>\n",
       "      <td>174.211183</td>\n",
       "      <td>82.644410</td>\n",
       "      <td>3.195699</td>\n",
       "    </tr>\n",
       "    <tr>\n",
       "      <th>std</th>\n",
       "      <td>0.894212</td>\n",
       "      <td>0.954126</td>\n",
       "      <td>667.743466</td>\n",
       "      <td>273.281398</td>\n",
       "      <td>1.030442</td>\n",
       "    </tr>\n",
       "    <tr>\n",
       "      <th>min</th>\n",
       "      <td>1.000000</td>\n",
       "      <td>1.000000</td>\n",
       "      <td>4.000000</td>\n",
       "      <td>1.000000</td>\n",
       "      <td>1.000000</td>\n",
       "    </tr>\n",
       "    <tr>\n",
       "      <th>25%</th>\n",
       "      <td>3.556667</td>\n",
       "      <td>3.000000</td>\n",
       "      <td>15.490000</td>\n",
       "      <td>3.000000</td>\n",
       "      <td>2.575000</td>\n",
       "    </tr>\n",
       "    <tr>\n",
       "      <th>50%</th>\n",
       "      <td>4.050000</td>\n",
       "      <td>3.600000</td>\n",
       "      <td>49.990000</td>\n",
       "      <td>10.350877</td>\n",
       "      <td>3.200000</td>\n",
       "    </tr>\n",
       "    <tr>\n",
       "      <th>75%</th>\n",
       "      <td>4.500000</td>\n",
       "      <td>4.110000</td>\n",
       "      <td>145.990000</td>\n",
       "      <td>57.000000</td>\n",
       "      <td>3.901250</td>\n",
       "    </tr>\n",
       "    <tr>\n",
       "      <th>max</th>\n",
       "      <td>5.000000</td>\n",
       "      <td>5.000000</td>\n",
       "      <td>10362.190000</td>\n",
       "      <td>4647.000000</td>\n",
       "      <td>5.000000</td>\n",
       "    </tr>\n",
       "  </tbody>\n",
       "</table>\n",
       "</div>"
      ],
      "text/plain": [
       "        EaseOfUse   Effective         Price      Reviews  Satisfaction\n",
       "count  685.000000  685.000000    685.000000   685.000000    685.000000\n",
       "mean     3.920038    3.523530    174.211183    82.644410      3.195699\n",
       "std      0.894212    0.954126    667.743466   273.281398      1.030442\n",
       "min      1.000000    1.000000      4.000000     1.000000      1.000000\n",
       "25%      3.556667    3.000000     15.490000     3.000000      2.575000\n",
       "50%      4.050000    3.600000     49.990000    10.350877      3.200000\n",
       "75%      4.500000    4.110000    145.990000    57.000000      3.901250\n",
       "max      5.000000    5.000000  10362.190000  4647.000000      5.000000"
      ]
     },
     "execution_count": 141,
     "metadata": {},
     "output_type": "execute_result"
    }
   ],
   "source": [
    "df.describe()"
   ]
  },
  {
   "cell_type": "markdown",
   "id": "2aa8e78b",
   "metadata": {},
   "source": [
    "## Data Exploration"
   ]
  },
  {
   "cell_type": "code",
   "execution_count": 142,
   "id": "d9114f3b",
   "metadata": {},
   "outputs": [
    {
     "data": {
      "text/plain": [
       "(685, 10)"
      ]
     },
     "execution_count": 142,
     "metadata": {},
     "output_type": "execute_result"
    }
   ],
   "source": [
    "#shape of dataset\n",
    "df.shape"
   ]
  },
  {
   "cell_type": "code",
   "execution_count": 143,
   "id": "c553d5b8",
   "metadata": {},
   "outputs": [
    {
     "data": {
      "text/plain": [
       "Condition\n",
       "hypertension                                 101\n",
       "Atopic Dermatitis                             67\n",
       "fever                                         64\n",
       "gastroesophageal reflux disease               54\n",
       "Bacterial Urinary Tract Infection             53\n",
       "hypercholesterolemia                          32\n",
       "hemorrhoids                                   31\n",
       "gout                                          31\n",
       "endometriosis                                 19\n",
       "Pharyngitis due to Streptococcus Pyogenes     19\n",
       "back pain                                     17\n",
       "diverticulitis of gastrointestinal tract      16\n",
       "Bacterial Conjunctivitis                      16\n",
       "flatulence                                    15\n",
       "depression                                    15\n",
       "edema                                         15\n",
       "prevention of cerebrovascular accident        14\n",
       "Acute Bacterial Sinusitis                     14\n",
       "vertigo                                       13\n",
       "fibromyalgia                                  12\n",
       "vulvovaginal candidiasis                      10\n",
       "adenocarcinoma of pancreas                     8\n",
       "sore throat                                    8\n",
       "impetigo                                       5\n",
       "herpes zoster                                  4\n",
       "scabies                                        4\n",
       "genital herpes simplex                         4\n",
       "furunculosis                                   4\n",
       "chickenpox                                     3\n",
       "oral candidiasis                               3\n",
       "Infantile Autism                               3\n",
       "biliary calculus                               2\n",
       "Sleepiness Due To Obstructive Sleep Apnea      2\n",
       "meniere's disease                              2\n",
       "Influenza                                      2\n",
       "pyelonephritis                                 2\n",
       "colorectal cancer                              1\n",
       "dtype: int64"
      ]
     },
     "execution_count": 143,
     "metadata": {},
     "output_type": "execute_result"
    }
   ],
   "source": [
    "df.value_counts('Condition')"
   ]
  },
  {
   "cell_type": "code",
   "execution_count": 144,
   "id": "1c762b87",
   "metadata": {},
   "outputs": [
    {
     "data": {
      "text/plain": [
       "Condition       0\n",
       "Drug            0\n",
       "EaseOfUse       0\n",
       "Effective       0\n",
       "Form            0\n",
       "Indication      0\n",
       "Price           0\n",
       "Reviews         0\n",
       "Satisfaction    0\n",
       "Type            0\n",
       "dtype: int64"
      ]
     },
     "execution_count": 144,
     "metadata": {},
     "output_type": "execute_result"
    }
   ],
   "source": [
    "#check for missing or empty data\n",
    "df.isnull().sum()"
   ]
  },
  {
   "cell_type": "code",
   "execution_count": 145,
   "id": "c0d2e789",
   "metadata": {},
   "outputs": [
    {
     "data": {
      "text/plain": [
       "<bound method DataFrame.info of                      Condition                         Drug  EaseOfUse  \\\n",
       "0    Acute Bacterial Sinusitis                  Amoxicillin   3.852353   \n",
       "1    Acute Bacterial Sinusitis  Amoxicillin-Pot Clavulanate   3.470000   \n",
       "2    Acute Bacterial Sinusitis  Amoxicillin-Pot Clavulanate   3.121429   \n",
       "3    Acute Bacterial Sinusitis                   Ampicillin   2.000000   \n",
       "4    Acute Bacterial Sinusitis                   Ampicillin   3.250000   \n",
       "..                         ...                          ...        ...   \n",
       "680   vulvovaginal candidiasis           Miconazole Nitrate   3.465000   \n",
       "681   vulvovaginal candidiasis      Miconazole-Skin Clnsr17   4.750000   \n",
       "682   vulvovaginal candidiasis      Miconazole-Skin Clnsr17   4.000000   \n",
       "683   vulvovaginal candidiasis                  Terconazole   3.525000   \n",
       "684   vulvovaginal candidiasis                  Tioconazole   3.852500   \n",
       "\n",
       "     Effective            Form Indication       Price     Reviews  \\\n",
       "0     3.655882         Capsule   On Label   12.590000   86.294118   \n",
       "1     3.290000  Liquid (Drink)  Off Label  287.370000   43.000000   \n",
       "2     2.962857          Tablet   On Label   70.608571  267.285714   \n",
       "3     3.000000         Capsule   On Label   12.590000    1.000000   \n",
       "4     3.000000          Tablet   On Label  125.240000   15.000000   \n",
       "..         ...             ...        ...         ...         ...   \n",
       "680   2.770000           Cream   On Label   13.990000   19.500000   \n",
       "681   3.000000           Cream   On Label   13.990000    4.000000   \n",
       "682   1.000000           Other   On Label  125.990000    1.000000   \n",
       "683   3.047500           Cream   On Label   68.990000   20.000000   \n",
       "684   2.022500           Other   On Label   22.990000  145.000000   \n",
       "\n",
       "     Satisfaction    Type  \n",
       "0        3.197647      RX  \n",
       "1        2.590000      RX  \n",
       "2        2.248571      RX  \n",
       "3        1.000000      RX  \n",
       "4        3.000000      RX  \n",
       "..            ...     ...  \n",
       "680      2.345000  RX/OTC  \n",
       "681      3.000000     OTC  \n",
       "682      1.000000     OTC  \n",
       "683      2.717500      RX  \n",
       "684      1.827500     OTC  \n",
       "\n",
       "[685 rows x 10 columns]>"
      ]
     },
     "execution_count": 145,
     "metadata": {},
     "output_type": "execute_result"
    }
   ],
   "source": [
    "#Summary of dataset\n",
    "df.info"
   ]
  },
  {
   "cell_type": "markdown",
   "id": "52fe1c42",
   "metadata": {},
   "source": [
    "# Plots"
   ]
  },
  {
   "cell_type": "markdown",
   "id": "c7f3880b",
   "metadata": {},
   "source": [
    "## Scatter plots"
   ]
  },
  {
   "cell_type": "code",
   "execution_count": 146,
   "id": "92bdaad9",
   "metadata": {},
   "outputs": [
    {
     "data": {
      "text/plain": [
       "<Figure size 1440x432 with 0 Axes>"
      ]
     },
     "execution_count": 146,
     "metadata": {},
     "output_type": "execute_result"
    },
    {
     "data": {
      "image/png": "[encoded data removed]",
      "text/plain": [
       "<Figure size 432x288 with 1 Axes>"
      ]
     },
     "metadata": {
      "needs_background": "light"
     },
     "output_type": "display_data"
    },
    {
     "data": {
      "text/plain": [
       "<Figure size 1440x432 with 0 Axes>"
      ]
     },
     "metadata": {},
     "output_type": "display_data"
    }
   ],
   "source": [
    "sns.scatterplot(data =df,x=\"Form\",y=\"Effective\")\n",
    "plt.figure(figsize=(20,6))\n",
    "\n"
   ]
  },
  {
   "cell_type": "markdown",
   "id": "210c8b88",
   "metadata": {},
   "source": [
    "The scatter plot above suggests that there is no strong correlation between the two variables. Since there is no clear relationship between the two variables, this tells us that the form in which a drug is takes does not play a strong role in its effectiveness."
   ]
  },
  {
   "cell_type": "code",
   "execution_count": 147,
   "id": "c003f301",
   "metadata": {},
   "outputs": [
    {
     "data": {
      "text/plain": [
       "<AxesSubplot:xlabel='Effective', ylabel='Satisfaction'>"
      ]
     },
     "execution_count": 147,
     "metadata": {},
     "output_type": "execute_result"
    },
    {
     "data": {
      "image/png": "[encoded data removed]",
      "text/plain": [
       "<Figure size 432x288 with 1 Axes>"
      ]
     },
     "metadata": {
      "needs_background": "light"
     },
     "output_type": "display_data"
    }
   ],
   "source": [
    "sns.scatterplot(x=df[\"Effective\"],y=df[\"Satisfaction\"])"
   ]
  },
  {
   "cell_type": "markdown",
   "id": "390c07d2",
   "metadata": {},
   "source": [
    "Based on the data, we can infer that the effectiveness of the drug has a direct impact on the satisfaction level expressed in customer reviews."
   ]
  },
  {
   "cell_type": "markdown",
   "id": "85814426",
   "metadata": {},
   "source": [
    "# Bar plots\n"
   ]
  },
  {
   "cell_type": "code",
   "execution_count": 148,
   "id": "457ff480",
   "metadata": {},
   "outputs": [
    {
     "data": {
      "text/plain": [
       "<AxesSubplot:xlabel='Form', ylabel='Reviews'>"
      ]
     },
     "execution_count": 148,
     "metadata": {},
     "output_type": "execute_result"
    },
    {
     "data": {
      "image/png": "[encoded data removed]",
      "text/plain": [
       "<Figure size 432x288 with 1 Axes>"
      ]
     },
     "metadata": {
      "needs_background": "light"
     },
     "output_type": "display_data"
    }
   ],
   "source": [
    "sns.barplot(data=df,x=\"Form\",y=\"Reviews\")"
   ]
  },
  {
   "cell_type": "code",
   "execution_count": 149,
   "id": "b22adc72",
   "metadata": {},
   "outputs": [
    {
     "data": {
      "text/plain": [
       "<Figure size 1440x432 with 0 Axes>"
      ]
     },
     "execution_count": 149,
     "metadata": {},
     "output_type": "execute_result"
    },
    {
     "data": {
      "image/png": "[encoded data removed]",
      "text/plain": [
       "<Figure size 432x288 with 1 Axes>"
      ]
     },
     "metadata": {
      "needs_background": "light"
     },
     "output_type": "display_data"
    },
    {
     "data": {
      "text/plain": [
       "<Figure size 1440x432 with 0 Axes>"
      ]
     },
     "metadata": {},
     "output_type": "display_data"
    }
   ],
   "source": [
    "sns.barplot(data =df,x=\"Form\",y=\"Effective\")\n",
    "plt.figure(figsize=(20,6))"
   ]
  },
  {
   "cell_type": "code",
   "execution_count": 150,
   "id": "8391dba3",
   "metadata": {},
   "outputs": [
    {
     "data": {
      "text/plain": [
       "<Figure size 1440x432 with 0 Axes>"
      ]
     },
     "execution_count": 150,
     "metadata": {},
     "output_type": "execute_result"
    },
    {
     "data": {
      "image/png": "[encoded data removed]",
      "text/plain": [
       "<Figure size 432x288 with 1 Axes>"
      ]
     },
     "metadata": {
      "needs_background": "light"
     },
     "output_type": "display_data"
    },
    {
     "data": {
      "text/plain": [
       "<Figure size 1440x432 with 0 Axes>"
      ]
     },
     "metadata": {},
     "output_type": "display_data"
    }
   ],
   "source": [
    "sns.barplot(data =df,x=\"Type\",y=\"Effective\")\n",
    "plt.figure(figsize=(20,6))"
   ]
  },
  {
   "cell_type": "code",
   "execution_count": 151,
   "id": "296a5343",
   "metadata": {},
   "outputs": [
    {
     "data": {
      "text/plain": [
       "<Figure size 1440x432 with 0 Axes>"
      ]
     },
     "execution_count": 151,
     "metadata": {},
     "output_type": "execute_result"
    },
    {
     "data": {
      "image/png": "[encoded data removed]",
      "text/plain": [
       "<Figure size 432x288 with 1 Axes>"
      ]
     },
     "metadata": {
      "needs_background": "light"
     },
     "output_type": "display_data"
    },
    {
     "data": {
      "text/plain": [
       "<Figure size 1440x432 with 0 Axes>"
      ]
     },
     "metadata": {},
     "output_type": "display_data"
    }
   ],
   "source": [
    "sns.barplot(data =df,x=\"Form\",y=\"Satisfaction\")\n",
    "plt.figure(figsize=(20,6))"
   ]
  },
  {
   "cell_type": "code",
   "execution_count": 152,
   "id": "99cfa5e7",
   "metadata": {},
   "outputs": [
    {
     "data": {
      "text/plain": [
       "<Figure size 1440x432 with 0 Axes>"
      ]
     },
     "execution_count": 152,
     "metadata": {},
     "output_type": "execute_result"
    },
    {
     "data": {
      "image/png": "[encoded data removed]",
      "text/plain": [
       "<Figure size 432x288 with 1 Axes>"
      ]
     },
     "metadata": {
      "needs_background": "light"
     },
     "output_type": "display_data"
    },
    {
     "data": {
      "text/plain": [
       "<Figure size 1440x432 with 0 Axes>"
      ]
     },
     "metadata": {},
     "output_type": "display_data"
    }
   ],
   "source": [
    "sns.barplot(data =df,x=\"Form\",y=\"Price\")\n",
    "plt.figure(figsize=(20,6))"
   ]
  },
  {
   "cell_type": "markdown",
   "id": "167473ba",
   "metadata": {},
   "source": [
    "According to the data, injections are the costliest form of drugs, followed by creams, capsules, and tablets, respectively. Additionally, the data reveals that the majority of drugs are available in solid forms, such as capsules and tablets, as they have the highest number of reviews. However, it is noteworthy that all forms of drugs are still effective."
   ]
  },
  {
   "cell_type": "markdown",
   "id": "2956667b",
   "metadata": {},
   "source": [
    "# Line plot"
   ]
  },
  {
   "cell_type": "code",
   "execution_count": 153,
   "id": "b68c951c",
   "metadata": {},
   "outputs": [
    {
     "data": {
      "text/plain": [
       "<Figure size 864x432 with 0 Axes>"
      ]
     },
     "execution_count": 153,
     "metadata": {},
     "output_type": "execute_result"
    },
    {
     "data": {
      "image/png": "[encoded data removed]",
      "text/plain": [
       "<Figure size 432x288 with 1 Axes>"
      ]
     },
     "metadata": {
      "needs_background": "light"
     },
     "output_type": "display_data"
    },
    {
     "data": {
      "text/plain": [
       "<Figure size 864x432 with 0 Axes>"
      ]
     },
     "metadata": {},
     "output_type": "display_data"
    }
   ],
   "source": [
    "sns.lineplot(x=df['Type'],y=df[\"Effective\"])\n",
    "plt.figure(figsize=(12,6))"
   ]
  },
  {
   "cell_type": "code",
   "execution_count": 154,
   "id": "ce7c79bc",
   "metadata": {},
   "outputs": [
    {
     "data": {
      "text/plain": [
       "<Figure size 864x432 with 0 Axes>"
      ]
     },
     "execution_count": 154,
     "metadata": {},
     "output_type": "execute_result"
    },
    {
     "data": {
      "image/png": "[encoded data removed]",
      "text/plain": [
       "<Figure size 432x288 with 1 Axes>"
      ]
     },
     "metadata": {
      "needs_background": "light"
     },
     "output_type": "display_data"
    },
    {
     "data": {
      "text/plain": [
       "<Figure size 864x432 with 0 Axes>"
      ]
     },
     "metadata": {},
     "output_type": "display_data"
    }
   ],
   "source": [
    "sns.lineplot(x=df['Form'],y=df[\"Satisfaction\"])\n",
    "plt.figure(figsize=(12,6))"
   ]
  },
  {
   "cell_type": "code",
   "execution_count": 155,
   "id": "cdbf80fd",
   "metadata": {},
   "outputs": [
    {
     "data": {
      "text/plain": [
       "<Figure size 864x432 with 0 Axes>"
      ]
     },
     "execution_count": 155,
     "metadata": {},
     "output_type": "execute_result"
    },
    {
     "data": {
      "image/png": "[encoded data removed]",
      "text/plain": [
       "<Figure size 432x288 with 1 Axes>"
      ]
     },
     "metadata": {
      "needs_background": "light"
     },
     "output_type": "display_data"
    },
    {
     "data": {
      "text/plain": [
       "<Figure size 864x432 with 0 Axes>"
      ]
     },
     "metadata": {},
     "output_type": "display_data"
    }
   ],
   "source": [
    "sns.lineplot(x=df[\"Type\"],y=df['EaseOfUse'])\n",
    "plt.figure(figsize=(12,6))"
   ]
  },
  {
   "cell_type": "markdown",
   "id": "f0fff30f",
   "metadata": {},
   "source": [
    "The data suggests that over-the-counter (OTC) drugs are the most effective type of medication. This may be attributed to the fact that OTC drugs are typically used to treat easily self-diagnosable conditions like headaches, colds, and allergies. On the other hand, prescription (RX) drugs are often recommended for treating severe medical conditions, which may not always yield the desired results."
   ]
  },
  {
   "cell_type": "markdown",
   "id": "d25524ef",
   "metadata": {},
   "source": [
    "# Pie charts"
   ]
  },
  {
   "cell_type": "code",
   "execution_count": 156,
   "id": "cda47bd2",
   "metadata": {},
   "outputs": [
    {
     "data": {
      "image/png": "[encoded data removed]",
      "text/plain": [
       "<Figure size 432x288 with 1 Axes>"
      ]
     },
     "metadata": {},
     "output_type": "display_data"
    }
   ],
   "source": [
    "count = df['Form'].value_counts()\n",
    "plt.pie(count, labels = count.index, autopct = '%0.0f%%')\n",
    "plt.show()"
   ]
  },
  {
   "cell_type": "markdown",
   "id": "a82eebed",
   "metadata": {},
   "source": [
    "The data is consistent with the fact that most drugs come in the form of tablets or capsules."
   ]
  },
  {
   "cell_type": "code",
   "execution_count": 157,
   "id": "16d97298",
   "metadata": {},
   "outputs": [
    {
     "data": {
      "image/png": "[encoded data removed]",
      "text/plain": [
       "<Figure size 432x288 with 1 Axes>"
      ]
     },
     "metadata": {},
     "output_type": "display_data"
    }
   ],
   "source": [
    "count = df['Type'].value_counts()\n",
    "plt.pie(count, labels = count.index, autopct = '%0.0f%%')\n",
    "plt.show()"
   ]
  },
  {
   "cell_type": "markdown",
   "id": "6651004c",
   "metadata": {},
   "source": [
    "According to the data, the average rating for over-the-counter (OTC) drugs was higher than that of prescription (RX) drugs, even though RX drugs are considerably larger in number."
   ]
  },
  {
   "cell_type": "markdown",
   "id": "a16ae2b3",
   "metadata": {},
   "source": [
    "# Conclusion\n",
    "- The scatter plot analysis indicates that there is no strong correlation between the form in which a drug is taken and its effectiveness. \n",
    "- Majority of drugs are in solid forms, particularly capsules and tablets, but all forms of drugs are still effective.\n",
    "- OTC drugs are deemed more effective in treating self-diagnosable conditions, while RX drugs which are prescibed are  used for severe medical cases but may not always provide satisfactory results. \n",
    "- In terms of cost, injections are the most expensive, followed by creams, capsules, and tablets.\n",
    "- The effectiveness of a drug appears to impact customer satisfaction levels."
   ]
  }
 ],
 "metadata": {
  "kernelspec": {
   "display_name": "Python 3",
   "language": "python",
   "name": "python3"
  },
  "language_info": {
   "codemirror_mode": {
    "name": "ipython",
    "version": 3
   },
   "file_extension": ".py",
   "mimetype": "text/x-python",
   "name": "python",
   "nbconvert_exporter": "python",
   "pygments_lexer": "ipython3",
   "version": "3.8.8"
  }
 },
 "nbformat": 4,
 "nbformat_minor": 5
}
